{
 "cells": [
  {
   "cell_type": "code",
   "execution_count": 1,
   "metadata": {},
   "outputs": [],
   "source": [
    "# Web scraping, pickle imports\n",
    "import requests\n",
    "from bs4 import BeautifulSoup\n",
    "import pickle\n",
    "import pandas as pd\n",
    "import re\n",
    "import string\n",
    "\n",
    "# Scrapes transcript data from scrapsfromtheloft.com\n",
    "def url_to_transcript(url):\n",
    "    '''Returns transcript data specifically from scrapsfromtheloft.com.'''\n",
    "    page = requests.get(url).text\n",
    "    soup = BeautifulSoup(page, \"lxml\")\n",
    "    text = [p.text for p in soup.find(class_=\"post-content\").find_all('p')]\n",
    "    print(url)\n",
    "    return text\n",
    "\n",
    "# URLs of transcripts in scope\n",
    "urls = ['https://scrapsfromtheloft.com/2018/11/21/trevor-noah-son-of-patricia-transcript/',\n",
    "        'https://scrapsfromtheloft.com/2018/06/29/russell-peters-almost-famous-2016-full-transcript/',\n",
    "        'https://scrapsfromtheloft.com/2017/05/02/hasan-minhaj-white-house-correspondents-dinner-transcript/',\n",
    "        ]\n",
    "\n",
    "# Comedian names\n",
    "comedians = ['trevor', 'russell', 'hasan']\n"
   ]
  },
  {
   "cell_type": "code",
   "execution_count": 2,
   "metadata": {},
   "outputs": [
    {
     "name": "stdout",
     "output_type": "stream",
     "text": [
      "https://scrapsfromtheloft.com/2018/11/21/trevor-noah-son-of-patricia-transcript/\n",
      "https://scrapsfromtheloft.com/2018/06/29/russell-peters-almost-famous-2016-full-transcript/\n",
      "https://scrapsfromtheloft.com/2017/05/02/hasan-minhaj-white-house-correspondents-dinner-transcript/\n"
     ]
    }
   ],
   "source": [
    "# # Actually request transcripts (takes a few minutes to run)\n",
    "transcripts = [url_to_transcript(u) for u in urls]"
   ]
  },
  {
   "cell_type": "code",
   "execution_count": 3,
   "metadata": {},
   "outputs": [
    {
     "data": {
      "text/plain": [
       "'\\n!mkdir transcripts\\n\\nfor i, c in enumerate(comedians):\\n    with open(\"transcripts/\" + c + \".txt\", \"wb\") as file:\\n        pickle.dump(transcripts[i], file)\\n'"
      ]
     },
     "execution_count": 3,
     "metadata": {},
     "output_type": "execute_result"
    }
   ],
   "source": [
    "# # Pickle files for later use\n",
    "\n",
    "# # Make a new directory to hold the text files\n",
    "\"\"\"\n",
    "!mkdir transcripts\n",
    "\n",
    "for i, c in enumerate(comedians):\n",
    "    with open(\"transcripts/\" + c + \".txt\", \"wb\") as file:\n",
    "        pickle.dump(transcripts[i], file)\n",
    "\"\"\""
   ]
  },
  {
   "cell_type": "code",
   "execution_count": 4,
   "metadata": {},
   "outputs": [],
   "source": [
    "# Load pickled files\n",
    "data = {}\n",
    "for i, c in enumerate(comedians):\n",
    "    with open(\"transcripts/\" + c + \".txt\", \"rb\") as file:\n",
    "        data[c] = pickle.load(file)"
   ]
  },
  {
   "cell_type": "code",
   "execution_count": 5,
   "metadata": {},
   "outputs": [
    {
     "data": {
      "text/plain": [
       "dict_keys(['russell', 'trevor', 'hasan'])"
      ]
     },
     "execution_count": 5,
     "metadata": {},
     "output_type": "execute_result"
    }
   ],
   "source": [
    "# Sanity check to make sure data has been loaded properly\n",
    "data.keys()\n"
   ]
  },
  {
   "cell_type": "code",
   "execution_count": 6,
   "metadata": {},
   "outputs": [
    {
     "data": {
      "text/plain": [
       "['A NETFLIX ORIGINAL COMEDY SPECIAL [distant traffic] LIVE NATION PRESENTS TREVOR NOAH',\n",
       " '[presenter] Beautiful people, put your hands together for Trevor Noah. [shouting and whooping] [hip hop intro music] [applause]',\n",
       " 'What’s going on, Los Angeles? [louder cheering] Welcome to the show. Thank you for coming out. Thank you for being here. This is so much fun. Welcome out. Oh, look at all of you. This is so dope. I love LA. I love everything about LA. Even the things people hate about LA, I love. I love the traffic in LA. It’s like one of my favorite experiences. Yeah, when you don’t live here, it’s great. It’s wonderful. Because you get to be a part of it, but it’s not yours forever. It’s like anther person’s child, you know what I’m saying? Yeah, you get to be like, “This is crazy. Have it back.” -That’s what it feels like. -[laughter] -I love it, man. -[indistinct shout] I love the vibe. You know? I love driving out here. You know. And while I’m out here, I get to listen to the radio, you guys have great\\xa0radio stations because you’re always in your cars. In New York– Radio’s not a big thing for me living in New York. I ride my bicycle, walk the streets. I can’t listen to music because I’ll die. -Um… -[laughter] But in LA, that’s all I do. I just listen to music. Now, these days when you’re driving, all you hear is trap music. That’s the big thing you hear, is trap. That’s the new music on the radio. It’s really fun. Trap. I don’t understand what they’re saying, but I enjoy it. -[laughter] -Every single song is the same. Every trap song to me sounds like a toddler complaining about life. That’s all I hear when I listen to trap songs. Every time a trap song plays on the radio, I think of my little brother, he’ll go outside and hurt himself. He’ll come back crying, it sounds like every single trap song ever. He’ll walk in like… [imitates child sobbing] I’ll be like, “Yo, Isaac, what happened?” [imitates sobbing] [sobbing nonsense in a trap style] [whoops] [sobbing nonsense in a trap style] [continued nonsense] And I’ll be like, “Yo, yo ,yo, dude, slow down.” [laughter and applause] I thought you were playing with your friends. What happened?” ♪ All my friends are dead ♪ ♪ Push me to the edge ♪ ♪ All my friends are dead now ♪ ♪ Push me to the edge now ♪ [sings nonsense] “Go talk to your mom. I don’t know what you’re saying. Talk to your mom.”']"
      ]
     },
     "execution_count": 6,
     "metadata": {},
     "output_type": "execute_result"
    }
   ],
   "source": [
    "data['trevor'][:3]"
   ]
  },
  {
   "cell_type": "code",
   "execution_count": 7,
   "metadata": {},
   "outputs": [
    {
     "data": {
      "text/plain": [
       "'russell'"
      ]
     },
     "execution_count": 7,
     "metadata": {},
     "output_type": "execute_result"
    }
   ],
   "source": [
    "# Let's take a look at our data again\n",
    "next(iter(data.keys()))"
   ]
  },
  {
   "cell_type": "code",
   "execution_count": 8,
   "metadata": {},
   "outputs": [
    {
     "data": {
      "text/plain": [
       "['-Yeah, Russell! Oi, Russell! Your mother is so fat. What the hell did you say to me? Do I look like Ryan’s mom? Somebody gonna get a hurt real bad. Oh, DDR. So good. His best buddy is in the house. Best what? Best buddy. Oh, my God. Thank you. All right! And now, ladies and gentlemen, Canada’s own and the pride of Brampton, Ontario… Toronto, give it up for your hometown boy, Russell… Peters.',\n",
       " 'Hey, thank you. Thanks. All right. There you are. There you are. There’s my city. Heh. That’s it. That’s what I’m talking about. Hey, give it up for, uh, DJ Spinbad and Starting From Scratch, ladies and gentlemen. Live DJing. Live. Not dead. Live. Asian guy, how are you? Good. You’re looking very anime. -What style..? Are you Filipino? -Chinese. Chinese. That’s the main kind of Asian. That’s.. That’s the one they make the most of. They, uh… You can pick them up fairly cheap. They’re reasonably priced. They’re.. -Heh, what’s your name? -Kat Sang Bong. I’ll.. I’ll do the jokes now. Are you..? You doing comedy is like watching, well, you drive. Uh, that’s.. That’s.. How you guys doing? You good? All right. Hey, giant Asian guy. That’s a.. Crickey, you’re a big one. Um.. -What style of Asian are you? -Chinese. You’re Chinese. Look at that. -How tall are you? -Six feet. Six feet in.. In Chinese, that’s like… That’s like eight feet. Which in Chinese is a lucky number. So, that’s… -What’s your name? -Edward. Edward. Oh, yeah, for sure. Yeah. No doubt. Absolutely I believe that. I, uh… -What’s your Chinese name, Edward? -I… I… I don’t know if you were hesitating or if that was your Chinese name. I… Well, that’s interesting.',\n",
       " 'I… Oh, my God. I’m so glad this job worked out, guys, ’cause.. You can’t act like this in any other job. Do you realize that? I’d be in HR every day. -Russell, do you know why you’re here? -No. You insulted somebody. Who? Everybody. I’m not good at things Indian people are supposed to do. That’s why I do this shit for a living. Anything Indian people can do, I can’t do. I’m mad envious when I see Indian people doing smart, intelligent things that involve studying and learning how to do something good. I.. I do. Anytime I see.. Like doctors. How many doctors? Are there any doctors here tonight? Look at that. Only in my audience we have that many fucking doctors. Where’s the doctor over there? -What kind of doctor are you? -Gynecologist. Gynecologist. Oh, wow, that’s a.. Any openings? Oh, okay. All right. I… And where’s the other doctor? You, bro? -What kind of doctor are you? -Orthopedic. Orthopedic. Is that a real doctor? Let me ask the gynecologist. Uh. No. She says no. Where’s the other doctor? -And what are you? -Surgeon. Surgeon. That’s a real doctor, as far as I’m concerned. -What kind of surgeon? -General surgeon. Gen.. Genital surgeon? Is that what you said? Or general? Oh, general surgeon. Oh, yeah. That makes.. I was like, “Hey, you’re cutting into her business here.” So, out of the three doctors, you’re the least. Um… And that’s your buddy with the caterpillar on his forehead? Um, look at that eyebrow. That is fucking incredible. Get a shot of that. Oh, my God. That is.. That is impressive. That.. Damn, that’s a.. Springtime is here. That thing’s gonna turn into a butterfly in no time. I’m glad there’s real doctors here, is all I’m trying to say. ‘Cause I asked the audience one night, “Any doctors here?”, and this Indian guy got up all proud. He’s like, “I’m a doctor.” I go, “What kind of doctor are you?” “I’m a psychiatrist.” I’m like, “That’s not a doctor, ever.” An orthopedic doctor is more of a doctor than a fucking psychiatrist. If shit goes down, you’re not hoping there’s a psychiatrist around. If you’re on an airplane, like, “There’s an emergency onboard. Do we have a doctor?” “I’m a doctor. I’m a psychiatrist.” “Sir, this gentleman’s having a heart attack.” “Fuck. All right. Uh.. Let me go talk to him. Sir? Sir? Sir, let go of your chest. Sir, what makes you think you’re having a heart attack right now? This goes back to his childhood.” What’s your name, Dr. Orthopedic? -Jamaal. -Jamaal. Oh, shit. -Where’s your family from? -Saudi. Saudi. Oh, shit. Double shit. Triple shit. We’re all in shit. Um… And where do you practice? Here, or there? -Hamilton. -Hamilton. Yeah. Ooh. I mean, oh, great! Being in Hamilton, you must miss, uh, Saudi. Um… And Dr. Genitals, uh… Dr. General Surgeon, what’s your name? -Sandeep. Oh, that’s my people right there, for sure. Got this shit on lock, Jamaal. And how long you been a doctor for? -Ten years. Oh, you’re brand new. Fuck that. I, uh.. How old are you? -Forty-one. How long did it take you to become a doctor? -A long time. -Sorry? -A long time. -A long time. Yeah, thanks. Okay. I think I was already implying that. I, uh.. I was actually asking for an actual timeline. -Where did you study? Here? -Yeah. Why didn’t you just go to India? You could become a doctor in four and a half years in India. If you go to India to become a doctor, four and a half years, and you’re a doctor. In North America, ten, 11, 12 years to become a doctor. You know why? ‘Cause we’re soft over here. Over here, they’re like, “They need the summer off, so their brains can relax.” India’s like, “Fuck you.” And they don’t learn less in India. They learn just as much, if not more. They just cram it into four and a half years. There’s a billion people, like, “We need doctors. Hurry up. Study, study, study.” Where did you grow up? -Mississauga. -Mississauga. Yeah. First of all, you can’t let out a.. A ‘hood “yeah!” It’s.. It’s Mississauga, you fucking dummies. All right? It’s not like.. It’s not even like, “Oh, shit!” It’s like, “Yeah, Mississauga.” It’s.. Mississauga, and he’s a doctor. How gangster do you think his life was? I gotta be honest with you, Sandeep, it’s nothing personal, but I would never go to you as a doctor. Um… I would never go to an Indian guy that became a doctor, especially one that was born and raised in this part of the world. Fuck that. If you were born and raised here, you had dreams, and it was never to become a doctor. Let’s be honest. I’d go to an Indian woman that became a doctor. Obviously, not you, ’cause, you know, I.. I have boy parts. But… I would go to an Indian woman that became a doctor. When an Indian woman becomes a doctor, that means she really wanted to be a doctor. Even her parents are like, “Sweetie, you don’t have to become a doctor. You can just marry a doctor.” And she’s like, “Fuck you. I wanna be a doctor.” I need that kind of determination from my doctor, you know? Well, you had dreams when you were 14 years old, right, Sandeep? And it wasn’t to be a doctor. That’s not what a 14-year-old dreams about. A 14-year-old… has dreams that are ridiculous. That.. That your dream at 14 should never be logical. It should be the dumbest shit you’re doing at 14. I’ll tell you what my dream was. It wasn’t to be a comedian. I didn’t even know this job existed. My dream.. It’ll make you feel better about whatever your dream was. Here’s what I thought I was gonna do for the rest of my life. I thought.. Heh. I.. I wanted to be a dancer. All right. First of all, fuck you. All right? Second of all, not a stripper. I was.. I was a break dancer, and I was like, “Yo, I’m gonna do this shit forever.” Not a realistic goal, though. What was your dream when you were 14, growing up on the mean streets of Mississauga, Sandeep? Now, be honest. Don’t make no bullshit up. -A musician. -Huh? A musician. -Did you play any instruments? -Yes. Well, good. That’s a good start. I always.. I always have Indian guys yell out shit that they never did. “I wanted to be in the NBA.” “Did you play basketball?” “Not once. I just love giant black men.” You know, just.. What instrument did you play? -Guitar. -You good? -Pretty good. -You still throw down on it? -Pretty well. Yeah. Yeah. So, you wanted to be a musician. I know what happened. Tell me if I’m right. You’re about 17, 18 years old. You’re sitting in your room, playing with your… “guitar.” And… you were thinking, “I’m gonna be a musician.” Your mom walked in and went, “Sandoo…” That’s all you need for a nickname. All you need is add two O’s to whatever you want the nickname to be. Sandoo. Like.. Like Edward, Edwoo. Well, that could be your name, Edwoo. Sorry, that.. That didn’t work, ’cause he might very well be an Ed Woo. Your mom walked in: “Sandoo… you’re going to college. Why don’t you become a doctor?” And you were like, “What’s wrong with your face?” “If you become a doctor, you can fix it.” So, you put your guitar down and picked up a stethoscope, and it was all over after that. That’s why I could never go to you. I don’t want my doctor to have had other dreams about being something else. My doctor in America is gonna be a black guy from the ‘hood who grew up with every disadvantage. Real ‘hood. Like in the “‘hood” ‘hood. Where the.. Where people were like, “Yo, coz, let’s go kill some motherfuckers today.” I want my doctor to be the guy that says, “No, man. I’m gonna be a doctor.” And everybody in the ‘hood was like, “Ain’t nobody fuck with Daverel, he gonna be a doctor and shit.” That’s how I know I got the right doctor, ’cause he’ll say “and shit” at the end of sentences. Look pissed off when I walk into the office. That’s the doctor I want. “Hi, Mr. Peters. Seems your nasal passage is inflamed and shit. You fill out this little bitch-ass prescription. Holler at me tomorrow, motherfucker.” That’s the right doctor for me. I don’t want my doctor to be some bratty Indian kid who grew up in Mississauga. When he’s doing an operation, he just goes, “Fuck this shit. I wanna play guitar.” Then the black guy has to run in, “Don’t worry, dog. I got this. It’s gonna hurt and shit.”',\n",
       " \"I never had to worry about doing anything great with my life. I didn’t. I didn’t have that pressure. I didn’t have that Indian pressure that a lot of Indian kids have. “Do something great.” My parents knew I was an idiot. From a very young age, my parents were like, “Oh, man.” I was a terrible student. I hated school. I never had to work, my parents.. My parents never had careers. They never had professions. They just had jobs. There are no professionals in my family on either side. Just a bunch of dummies. You know what I mean? But regular hard-working people. Just regular jobs. My mom worked in Kmart. Not.. Not in head office, in the store. My dad worked.. I never really understood. You ask my dad what he did. “What do you do?” “I work.” “Where?” “At my job.” “What do you do?” “Job-related work.” I never understood what my dad did. I was five, my dad was going to work, I stopped him and I go: “Dad, where are you going?” He goes, “Work.” I go, “What do you do?” “I work at a chicken plant.” And then he left. You can’t tell a five-year-old that you work at a chicken plant and then walk out of the house. I’m five years old. I can’t comprehend what a chicken plant is. I know what I chicken is, and I know what a plant is. For the next 7 years, I told people that my dad planted chickens. It wasn’t till I was 12, I was like, “Dad..” He was going to work, I go, “Dad, what exactly do you do?” He goes: “I check to see if the chickens are good or not.” And then he left. And I still didn’t know what that meant. I literally picture my dad standing around, going, “Good chicken. Good chicken. Stop the line. Bad chicken.” I don’t know what he did to the bad chicken. “I wanna talk to you for a minute. Come here. Come here. Listen, you need to get your shit together. Okay? Start clucking like the rest of them. Don’t be such a cock.” Never had to worry about school. I mean, I did, because I was in it. But.. But my parents gave up. They gave up early. They knew.. They would literally beg me. They’ll be like, “Son, please, just try and get 50. It’s a pass. Just get 50.” I’m not bragging, and.. Nor am I glorifying this. But.. Um, this is an actual mark I got in grade nine typing. Typing. All right? It was 1984. Don’t judge me. There were no computers yet. It was actual typewriters. Um, my typing.. My final mark was 13 percent. Even my dad was like, “Son… Son, you’ve hit a new low. Do you realize you get 25 percent just for signing your name correctly? What fucking name did you put?!” They gave up when I was a teenager. They did. My only rule when I’d leave the house was.. I’m like, “Dad, I’m going to the mall.” “Okay. Son, oh, don’t die.” That was it. That was their only rule. “Don’t die. We’ve already failed enough. We don’t need the ultimate failure. Well, don’t die while I’m alive. After I die, die as many times as you want. But… while I’m here, don’t die.” Never had to worry about a career or a job. Well, a job, yes, just not a profession. When I was 16, my dad comes to me and goes: “Son, one day, you won’t be in school anymore.” And I was like, “I’m gonna graduate?” “No, son. Focus, son. Focus. Focus. Come on. That’s never going to happen. Okay? When you’re not in school, you’re going to need to get a job.” I was like, “Of course, I’m going to get a job. I’m not a freeloader. And if you know anybody hiring, let me know.” He goes, “Well, the airport is hiring.” Here’s how dumb I was. My dad said the airport was hiring and I was like, “Oh, my God. My dad wants me to be a pilot.” I was like, “You want me to be a pilot?” “Oh, my God. Son, no. Oh, my God, no. Oh, my God. Oh, Mylanta. No, no, no. Oh, my God. Son, you are far too stupid for that job. People’s lives are at stake.” “What the hell am I gonna do at the airport?” My dad goes, “Baggage handler.” “What the hell is a baggage handler?” My dad sells the shit out of it to me. “A baggage handler? Son, let me tell you something, okay? These people are an integral part of millions of people’s travel plans throughout the year.” I was like, “Damn. Well, what does their job entail?” “Basically, baggage handler’s job is, you take the baggage and you put it on the plane.” “What do I do?” “You take the baggage and you put it on the plane.” “I ‘putted’ on the plane?” “You put it on the plane.” “I ‘putted’?” “You put it.” “Like… ‘put’?” “Like ‘put.'” “Like:” “Don’t be stupid. Okay? That’s ‘putting.’ Focus, son. Focus. Focus.” I said, “Dad, I wanna be a break-dancer.” “Son, son, you can dance on your break.” Anything Indian people can do, I can’t. I’m impressed whenever you do something intelligent. Like computers. I’m shit on a computer. Are you good on a computer, Edward? You’re Chinese. You’d better be good on a computer. You’re making them all day. The least you can do is be good on them. Do you work with a computer for a living? Yeah. So, you.. Yeah. -What do you prefer, a PC or a Mac? -I prefer a PC. PC. Yeah. That’s how you know you’re good on a computer. People don’t believe I’m not good on a computer. “You’re Indian. You’re supposed to be good on a computer.” An Indian guy saying he’s not good on a computer is like a black guy going, “I ain’t got no rhythm.” PC, that’s the.. That’s the showoff. You know that’s the.. “I know how to get on a computer and avoid diseases.” I use a Mac, because Macs are stupid-people friendly. I am a stupid people. The real reason I use a Mac is ’cause I go to a lot of questionable websites. But what I’m trying to tell you is… if you’re gonna surf porn, surf porn on a Mac. Surfing porn on a Mac is like having sex with a condom on. You’re like, “I don’t care what she has. I’m not gonna get anything.” Surfing porn on a PC is like raw-dogging a hooker, you know? You’re just, “Oh, my God! It feels good, but I’m scared. I’m so scared! Oh, my God! It burns when I download.” You know, the worst day in my life is when I have a problem with my laptop and I have to call the 1-800 number on the back of it. I don’t care they’ve outsourced the call to India. That makes me happy. The part that bothers me is that that guy in India knows who I am. “I’m having a problem with my laptop.” “Okay, sir. And your good name?” “Sorry?” “Your good name.” “My good name? What is that? My password? You want my password?” “No, sir.Your good name. Your good name?” “What the fuck is my good name?” “Your surname, family name?” “Oh. Why didn’t you say so? Peters.” “Okay. And your first name?” “What’s that?” “Your first name.” “I don’t have a forest name. Enchanted? If I was in the forest, my name would be ‘Lost.’ What are you asking me now?” “No, sir. Your first name?” “What the fuck is my forest name? What is that? Slow it down, buddy.” “First name.” “That’s the same fucking thing!” “Sir, the name you use on a daily basis.” “Oh, heh, sorry, man. Russell.” “Okay. No way! Is it really you?” I’m all proud. I’m like, “Yes, it is.” He goes, “Well, well, well. All those jokes you made, huh? Now who needs help, huh? Okay, bastard. Here’s what we’re going to do. I’m going to mirror your computer.” “What?” “Mirror your computer.” “Mirror my computer? What does that mean?” “I’m going to gain full access to your laptop remotely.” “Really? How do you..?” Then I see the mouse moving around on my screen. “What the hell happened?” “I have gained full access to your laptop. Let’s go through your history.” “Let’s not go through my history. How about that? Let’s…” “Well, well, well. Heh. Lusty grandmas.” “It was a pop-up.” “I’m sure they popped up just fine, huh? Seems to pop-up three, four times a day.” How you doing, sir? You good? What’s your name? -Vince. -Vince. -Italian? -Yep. I could tell by the way you said “Vince.” “Hey, Vince. Always got to sound like I’m doing some illegal shit.” I love talking to Italian guys. They fuck the air when you talk to them. Ever see that? “Bro, where you been?” “I’m on the 400. I’m going north.” “Not the 400. 401. You don’t need to go this way. You need to go that way.” Is that your lovely wife? Hi, lovely wife. How are you? -How long you guys been together? -Twenty-one years. Twenty-one years. That’s great. That’s good. Kids? Not you two. I mean, do you have kids? -Yeah. -Yeah. -One girl. -One girl. How old? -Thirteen. -Thirteen. Nice. You waited. That’s nice. Thought you’d enjoy each other for a few years, and then: Send one home. You know? She bent over in the kitchen, and you were on the phone giving directions. “Vince, I just need to get this pot.” “What are you doing?” “Oh, my God! I’m pregnant.” One girl. That’s all you wanted, right? One kid? You.. I got one. I got a daughter, as well. I like her. She’s, um.. One’s all you need. I’m not.. I don’t want more than one kid. I’m not fucking collecting them. You know what I mean? They’re not going up in value, you know? So, one and done for me. I think the real reason, like, I never wanted more kids is because… I know me, and I know what an idiot I am. And I’m one of those people who gets dazzled by new things. So, I don’t want my daughter to be, like, the object of everything in my life, then a new kid comes along, “Beat it, kid. Look at this one.” She’s like, “I thought you loved me?” “I do. Look at this new one. It’s so much better.” I know what an idiot I am. So, this is just gonna be the one and done. -You spoil her? -Yeah. Oh, yeah. How old are you, Vince? -Forty-six. -Forty-six. We’re the same age. You know what I mean? “Yeah. No problem. Forty-six.” And you had immigrant parents, Vince? Yeah. From Italy? Yeah. You know what I’m talking about. Immigrant parents, they don’t play. Immigrant parents don’t give you idle threats. If they tell you to do something, they fucking mean do that. There’s no negotiating. You don’t talk back to your parents. You’re Italian. You’d get a schiaffo right on your head. Right? Let me tell you what happened. My daughter was in her bedroom, laying on her bed, and I.. And I burst into her room, right? First, she’s five. She’s not gonna be doing anything weird. Uh… Second of all, it’s my house, I’ll burst into whatever room I want. So, I.. My daughter’s lying on her bed with her iPad watching Frozen. You know? As children do. And so, I burst in and I’m like, “Baby!” And I guess it startled her, but she didn’t react like a 5-year-old. Aah! She reacted like a woman. She got angry. Not like a little kid. She became a woman instantly. And then I was like, “Baby!” And she went.. Shh! Without using any words, my daughter went, “Motherfucker! Do you not see what I’m doing?!” And if your kid ever calls you a motherfucker, you can’t get mad. Because, yeah. You are, Vince. If you weren’t a motherfucker, they wouldn’t be here. If there’s any kids in here, I want you to try calling your dad a motherfucker. Um, you look young, buddy. So, try it. But you can’t do it when you’re angry. You gotta do it when everything’s calm, you know? Like, you can be at the dinner table. “Ma, this pot roast is fantastic. Hey, motherfucker, can you pass the peas?” “Sure. What the.. What happened?” But she got so mad, and just immediately was just.. Shh! And I just thought it was hilarious. I started laughing immediately. Now, I don’t know if that’s because I’m a comedian. Or if I’m just a shit parent. But my little daughter went: Shh! And I thought it was the funniest thing in the world. And the more I laughed, the angrier she got, like a real woman. And the angrier she got, the more I laughed. Until it was just like, “Daddy! Stop it!” And I’m like, “I can’t!” And then I thought about it. I can’t picture.. I can’t even imagine one single time in my life, let alone at 5, that I could have ever said, “shh,” to my parents. Sitting in the living room, watching TV, and my dad walks in, “Russell.” Shh. “You don’t shush me! I’ll throw that TV at you!” This was 1975 when TVs weighed 1800 pounds, when it was more than just a TV. It was a TV, it was a speaker system, it was a shelving unit. It had a turntable on the top with a cassette deck and an 8-track player. It had a shitty doily that ran across the top. It had a vase with plastic flowers in it for no reason. Remember the plastic flowers? They were huge in the Indian world. Indian community. “Plastic? Wait, wait. So, we just buy the one flower, one time, and you don’t have to replenish it. Genius. Absolute genius.” Remember those plastic flowers that were like this long, and they were on a wire, plastic? My dad was so cheap, he bought one, he bought a vase that was only this big, so we had to bend the wire. So, now, you have, like, half a flower and half a wire sticking out. And nobody ever dusted them or cleaned them, so they were never the color they were. People would walk by, ooh.. “Oh, red. Nice. Nice.” Think about how angry your parents were all the time. They were mad. Always. I don’t know why they were so mad. They weren’t mad at you. Just mad. Our parents had no problem disappointing us, did they? I’ll do whatever it takes to not disappoint my daughter. If I tell them I’m gonna do something, I’ll do that plus something else. You know, because we’re idiots. Because we grew up wanting things. I never had more than I needed. I never did without. I mean, but I never had extra shit. Like, I would get the one pair of shoes every year in September for school, and it was like, “Son, you’re getting one new pair of sneakers.” I’m like, “Yes.” “Let’s go see what BiWay has. I have a coupon. I, too, am getting a pair.” I would get one toy a year. One toy. On my birthday. It was.. It was such a bullshit deal, though. My birthday would come, my dad would be like, “Let’s go to the toy store.” And we’d go to the toy store, and my dad would be like, “You can have anything in this bucket right here.” “Everything’s broken in that. This gun is in two pieces.” “Why don’t you look at it as two guns? The glass is half full.” So, when you grow up like that, when you want things, and you get a little money, you do it. I got a little bit of money. I start buying everything I wanted, then I spoil my daughter. I buy her shit she doesn’t know she wants. I buy it ’cause I would have wanted it. Not wanting to disappoint your child can backfire on you. Let me tell you what happened. Couple years ago, I moved into this new house. I was building.. Not building.. I had a really nice bedroom for my daughter. I do have. Not had. I didn’t lose the shit. I, uh.. And I wanted to get a really cool bed. And I was like, “Baby, I wanna get you a really fun bed.” And she’s like, “I want a fun bed.” She was three at the time. And then I go, “Come on. Come here. Sit with me. And we’ll look at beds online.” She goes, “Okay.” So, I pull up my laptop, and I go to Google. I put safe search on ’cause I’m not an idiot. You know, I don’t need dicks flying up when I’m trying to look at stuff. Put safe search on, and then I type in “cool beds for little girls.” And all these cool beds showed up online. It was like.. This shit I’d never.. I didn’t even dream about seeing. And then.. And she goes, “Daddy, I want a castle bed.” And I’m like, “I want a castle bed, too. I mean, for you.” So, we find this castle bed. It’s amazing. It’s a queen-sized bed on the bottom. Full queen-sized bed. And then, it’s got stairs that lead upstairs to a double bed. And it has a steeple like a castle. And then it has a slide that comes around the other side. My daughter’s like, “I want that one!” And I go, “I want you to have that one, too.” And we’re high-fiving. Yay! Yay! “Is it gonna be here tomorrow?” “Wait, let me first buy it.” So, I’m like “add to cart.” Yes. Check out. Yes. And she’s like, “Will it be here?” “Hold on. Let me just hit ‘purchase.'” Purchase. $10,000. And I’m like, “Fuck me!” And my daughter’s like, “What?” “No, no, no!” And I had to buy it, she was sitting right there. And I got her all excited about it. I bought a $10,000 bed for a 3-year-old. And this little bitch hasn’t slept in it once! Two fucking years, and she hasn’t slept in the goddamn bed! She has a queen-sized bed… from the age of 3. I never had a queen-sized bed till I was 30. And that was because that’s when I moved out of my parents’ house. I know.. You guys go, “Thirty?” I’m like, “For an Indian guy, that’s pretty young.” I was.. I was 30 when I moved out and.. My brother was 36. He was.. He goes, “Where are you going?” “Moving out.” “I better go with you. I don’t wanna look like a loser.” “It’s too late. You’re 36. It’s..” -You have kids, sir? -Yes. -How many? -Two. Two. Are those them? -Those your kids? Are they..? -No. No? Okay. I just.. I saw two more white people. I figured they might be yours. -What do you have? -A daughter and a son. A daughter and son. Who’s older, daughter or son? -Daughter. -Daughter. Which one do you like better? Both? Wait. Wait. Listen to the question, sir. What’s your name? -Greg. -Okay, Greg. When I ask which one do you like better, I’m not asking you which one you love more. I don’t think you love either of them more than the other. Correct? -Yes. -You love them both equally. You don’t want anything bad to happen to either of them, but you like one better. It’s.. It’s human nature, Greg. Listen, liking one of your children more than the other is literally the difference between running and walking. Let me explain. You’re in the living room, you’re watching TV, and all of a sudden, you hear somebody fall down the stairs. “Oh, my God. Who was that?” “It’s me.” “Oh, my God!” Right? Okay. You’re in the living room, watching TV. All of a sudden, you hear: “Oh, my God! Who was that?” “It’s me.” “Oh, for fuck sakes.” You’re.. You’re still gonna go… but which one are you running for? Probably the girl, huh? -There you go. -How old are they? -My daughter’s 14. My son is 28. -Your daughter’s 14. Your son’s 28. Wait, I thought you said your son was younger? Oh, he’s older. So, that’s the baby, always. It’s the little girl, right? Yeah, that’s the way we work. -What’s your name, buddy? -Omar. Omar. Where’s your family from? Egypt. Oh, shit, that’s sphinx. Um… Nope. That joke flew right past him. I like that. I waited for a second, but it didn’t go anywhere. -And is that your girlfriend, your wife? -My wife. Your wife? And she’s not Egyptian, right? Are you okay, sweetheart? Are you..? Are you a hostage? Blink if you need help. You grew up in Poland. When did you move to Canada? -In ’82. -’82. So, when you grew up in Poland, were you learning..? Were they speaking Russian back then? -I had to take Russian. -You had to take Russian. -So, you speak Russian or understand it? -Yeah. A little bit. Yeah. I just learned how to say “how are you?” in Russian. Do you know how to say “how are you?” in Russian, Vince? “Cock dealer.” I swear. This Russian guy walked up to me. He goes, “Hey, kak dela?” I go, “Hey, hey, hey, man.” I don’t give a shit if you’re a blackjack dealer, all right? Don’t come around here offering me all that. When you find vag dealer, send her over. I like listening to people speak Russian. You ever heard people speak Russian? It’s amazing. They sound like they’re talking backwards. Vladimir… Blyad. That’s a real swear word in Russian, blyad. It’s like they didn’t have a swear word and some guy drank too much vodka. “Boris, how do you feel?” He feels blyad. Are there any Russian people here? All right. Where are you? -You Russian, bro? -Yeah, bro. -What’s your name? -Anand. What? Anand? Omar? Jamaal? Where are you from, Anand? My parents are from Uzbekistan. Your parents are from Uzbekistan. Oh, yeah, that makes more sense. Yeah. There’s.. Okay. So, yeah, you’re speaking Russian. Speak Russian? -Yeah. -Nice. Maybe you can clear this up for me. Um… Uh, last summer, I had to do some plumbing work on my house in Los Angeles, and I hired these two Russian plumbers. Great guys. Let me just say this. They were great guys. They were reasonably priced. They were on time. They were tidy. They did good work. They never gave me any problems. They were respectful. But… every day when they would come to work, they would call me by my last name and then giggle like little kids. “Good morning, Mr. Peter.” I’m like, “It’s Peters. Mr. Peters.” “Okay, Peter.” “Why don’t you call me Russell?” “Okay. Russell Peter.” I’m like, “What are they laughing at?” So, I called one of my Russian friends. Like, “Yo, these guys come to the house, they call me by my last name and giggle.” He goes, “What are they saying?” “Mr. Peter.” Then he’s like: “That’s messed up, man.” I go, “Why?” “Your last name. In Russian, it means ‘faggot.'” “Like, do you mean gay?” “No.” “Homosexual?” “No. Faggot.” “Mr. Peter… seems your pipes are blocked.” “Nice castle bed, Peter.” I’m.. I’m what they call a sleeper. I, uh… I’m lazy is what I’m trying to tell you. I love sleep. Like, I genuinely.. If I can get 14 hours a day, I’m good. I might have been a koala in my last life or something, you know? But… I just love sleep. I’ve been doing stand-up for 27 years, not because.. I do love what I do. Don’t get it wrong. But I didn’t get into this because I was like: “Oh, I’m gonna be looking.. One day, I’ll be something.” No. I got into this because in 1989, I was standing around with my friends, and I was like, “Yo, I wanna get a job where I could sleep all day… and then work for, I don’t know, like, an hour. And my friend goes, “Comedian.” I’m like, “I’ll take it.” “You don’t know how.” “I’ll figure it out.” This isn’t talent. This is determination… for sleep. I love sleep. And when we’re sleeping with you, ladies.. And I mean sleeping with you. Just sleeping. ..you need to know that your man respects your sleep, because a man.. I mean, when I’m sleeping and my girlfriend’s beside me, I will do whatever it takes to not disturb her sleep. And I would hope she would do the same. But I will do whatever it takes to not ruin her sleep. Obviously, there’s those times when you roll over in the middle of the night. You know, it’s.. We’ll do that until we’ve.. “Get off me!” I’m like, “Oh, my God! Sorry. Oh, my God. Thank God you woke me up. I was having a nightmare. I…” But other than that… we’ll do whatever it takes to not disturb your sleep. When we’re sleeping with you, ladies.. And I know this.. For me, especially. When my girlfriend’s asleep beside me, I’ll do whatever it takes to not disturb her. And more often than not, now, especially after 40, like, 3:30 in the morning, I’ll get waken up ’cause I have to pee, and then I’m like, “You know what? Look at her, all pretty and sleepy and… I don’t wanna disturb her, so I’m gonna risk a bladder infection.” And then I go back to sleep. Right? And then about ten minutes into my sleep, I start dreaming about peeing. That’s your body going, “Hey, didn’t I try to tell you something a minute ago?” The minute you start dreaming about peeing, you have to get up and do it, ’cause your body’s like, “Nah, uh-uh. We’re not playing this game.” And when I finally agree that I’m gonna go to the bathroom, I become the most stealth-like ninja human being you’ve ever seen in your life. I start edging towards my side of the bed. And while I’m doing that, I’m pushing up the blanket right behind her, you know? So, that way it feel like I’m still there. Then when I get to the edge of the bed, I literally pour myself out of the bed. Then I get up. When you go to the bathroom in the middle of the night, guys, you have to make an announcement. It doesn’t have to be loud. It doesn’t have to disturb anybody, but you have to say, “I just gotta pee.” Because if she wakes up and you’re not there, she immediately assumes you’re sleeping with somebody else. It’s a safety thing. It’s an insurance policy. She doesn’t have to react to it. She doesn’t have to move. You just have to say, “I just gotta pee.” And she’s dreaming. She’s asleep. She’s dreaming about playing tennis. “I just gotta pee.” Made my announcement. Ready to go to the bathroom. I know where the squeaks are in the floor, so I avoid them. I tiptoe the whole way. When you get to the bathroom door, guys, this is very important. You have to grip the handle firmly, very firmly. And I open it so slowly. I turn the knob so slow that you could literally hear the spring inside recoiling. Like coil by coil. And you’re like, “Shut the fuck up, door.” But you’re the only one that can hear it. And then when you get it unlocked, you have to open it swiftly. You have to push it open quick. You can’t do it slow, in case it goes: Right? So, you gotta.. And then… Then I reach around on the inside and I grab the handle, and then I close the door slowly, and then: Now I’m able to go to the toilet. Now, when you get to the toilet, guys, this is very important. You have to pee… to the inside of the bowl. Because you don’t wanna make.. There’s no sense you going through all the tiptoeing and the…and she just.. You just hear: You gotta.. You gotta.. You pee to the side of the bowl. You don’t wanna break water. So, you pee to the inside of the bowl so the pee just cascades into the water, and there’s no noise. And then when I’m done, I take the seat and the lid and I close it. And then I flush, because I’m trying to mute the noise as much as possible. And then I stand there and I wait until the tank refills. Then, and only then, do I head back to the bedroom. I don’t wash my hands. First of all, I took a shower right before I went to bed. Second of all, it’s my dick. It wasn’t dragging through mud. Literally, a minute ago, it was asleep on my balls. Just.. And just so you know, ladies, nine times out of ten, when a guy goes to the bathroom, we don’t even use our hands. We pee like Superman. Just.. So, then I tiptoe my way back to bed, and then when I get to the mattress, I put my shoulder on it first. You gotta put your shoulder on the bed. And then I put one leg up, right? So, I got an even distribution of weight on the bed now, right? And then I just do this little jujitsu kind of roll. I just.. I kind of roll my whole body and then I roll onto the bed, and then: And, bam, my arm ends up right around her. And she has no clue that I left and went to the bathroom. And we do it that way, ladies, because men respect a woman’s sleep. Now… when a woman has to go to the bathroom in the middle of the night, she doesn’t give a shit if you haven’t slept in four years. If she gets woken up out of her sleep, it’s everybody’s problem. They don’t wake up and think, “I have to pee.” They wake up and go, “Oh, my God! I gotta pee!” And then she hurls the blankets. Hurls the blankets off of her so violently that they come right off of me and I’m like, “I’m freezing right now.” And this beautiful, petite, little woman leaps out of bed like a cat, but lands like a hippopotamus, just… She goes and finds her tap shoes ’cause she wants to make extra noise. Then she gets to the bathroom, the door handle slips out of her hand. Slams the door, whack! Gets into the toilet. Goes to lift seat, it slips out of her fingers, whack! Loudest noise in the world. Then she sits down to pee. Ladies, when you sit down to pee, why can’t you just sit down and pee? Why do you have to sit down and go:? And you ever heard a woman peeing? It’s the loudest thing you’ll ever hear. What are you, cutting concrete in there? And then when she’s done, she goes to flush, but does half a flush. And now you’ve gotta sit through two flushes. And.. Then she goes to wash her hands and she knocks over a glass, and then.. Now she’s done. And she storms back to the bedroom. Storms back to the bedroom. And she slams that bathroom door behind her so hard that it doesn’t catch, it just bounces back open. And this asshole left a light on in there. So, now there’s a beam of light entering the bedroom. And she’s stomping her elephant ass back. She’s 110 pounds. I don’t know where all this weight’s coming from. Instead of getting back in the bed like a normal human being? No. She turns into fucking Hulk Hogan when she’s coming back to bed. “I’m coming back to bed, brother.” And she.. And she slams herself on the bed so hard that my entire body bounces up. And then I go, “Hey, is everything okay?” “Oh, my God. Did I wake you?” Yeah, bitch. You woke everybody on the northern hemisphere up. How you doing, buddy? -What is your name anyway? -Kevin. Kevin. Oh, yeah. Kevin and Edward, the Chinese guys. Good solid Chinese names. What style of Asian are you, sir? -Me? -Yeah. -Filipino. -Filipino. Nice. That’s good. It’s not a pep rally for the Filipinos, it’s just.. I was just in the Philippines. Have you been? -I have. -Yeah. I didn’t know that Indian people in the Philippines are such villains. Do you know this? In the Philippines, Indian.. They’ve vilified Indians so bad. Like, you.. They literally use Indian people as a threat to get their kids to go to sleep. They would be like, “If you don’t go to bed, the bumbais will come in the nighttime. And your blood will run down the streets.” How did we get such a shitty reputation over there? I see white people, but I don’t see real proper Canadian white people. You know that I mean? Where are the cakers? Where are you? Sir? Yeah. Look. Yeah. There you go. Yeah. That’s.. There we go. Good. I miss you, guys. I love when I come back home. I’ve been gone for ten years. And it’s so weird, because when you grow up.. You’re born and raised here, and you don’t notice things about it until you leave. And I never really noticed the Canadian accent until I left. Now, when I come home, that’s all I fucking hear. And if you really think about the Canadian accent, it sounds smart and dumb at the exact same time, doesn’t it? “Oh, Christ. Look at you, eh?” “Oh, yeah.” “Oh, yeah. Are you back in town?” “No, it’s a fucking hologram you’re looking at, asshole.” “Oh, no doubt, eh? No doubt. No doubt, eh?” “Oh, fuck, yeah. No doubt.” “No, fucking doubt. Oh!” White people talk till they have no breath. “Fuckers, don’t, don’t! No!” “No doubt, eh? Fuck. So, you’re gonna tape the new special, are you?” “Oh, yeah. Right on. Right on.” I know you probably don’t hear it, even when I’m doing it. Like, “He sounds normal to me.” But you really gotta pay attention. Listen to a hockey player in an interview. They always say and sound the exact same way. “Oh, yeah, yeah. No. We got out there tonight and, uh, you know, coach says we need to play more as a team and, you know, push the puck around and look for openings and see the guys out there and, you know, pretty much have a good game of hockey.” “No doubt. No doubt. Oh, yeah.” “No fucking doubt, eh?” “Oh, heh, yeah.” You were born in Canada. Right, sir? Hello? Is your..? Were your parents from Canada, too? -Yes. -Yes. That’s the real Canadian. That’s.. That’s some shit. You should be like, “Yes!” We live in a weird time. You realize that? We live in a time where.. Like in.. Especially in the U.S., with their whole election shit going on. They’ve made a big deal out of race this year. Which is weird. When Obama was in it, they didn’t mention race once. They were like, “There’s a black guy here. Everybody keep their shit quiet.” Black dude. Are you a black guy right there? You might be a dark-ass Indian guy. I don’t know. I’m asking you. Are you a black guy? Hello? Does the mike not reach that way? Can you not…? You’re a black guy? -Black and Indian guy. -Black and Indian guy? Okay. Well, you got the best of both worlds. You can run fast and spell great, so, um… That’s a black guy right there. Black dude. You’re a black guy? You know that? I don’t think I need to… -How old are you anyway? -I’m 39. Thirty-nine. See, you have to ask a black person their age. You always have to ask, ’cause you can never guess a black person’s age. You will be wrong 100 percent of the time. ‘Cause here’s the thing with black people. They stop aging at some point. Their body goes, “Fuck it. This is as old as I’m gonna look.” But their insides keep aging, you know? That’s how you can tell a black person’s age. Ask them. You hear it in their voice. Their voice gets older. And then their points of reference start to get really obscure. “What are you, like 40?” “Uh-uh. Baby. I ain’t been 40 in about 45 years. Shit. I know. That’s right. That make me wanna jitterbug.” Why the black community and the police have a hard time, ’cause the cops could never describe a black man properly. Well, the suspect is a black male between the age of 18 and 97. Everything is race-based. You know? And that’s fine for me. I made a living out of it. But… when it hits the political side.. You got Donald Trump saying crazy shit like: “No more immigrants. I’m gonna stop immigration.” I’m like, “Donald Trump, if you stop immigration, how are you gonna get another wife?” Two out of his three wives have been immigrants. Two out of three. You know, when people say “immigrant,” they just picture this room. They picture non-white people. You hear “immigrant,” you picture brown, black, Asian. Brown, black, Asian. That’s all you picture. Reassess that. Start picturing white people. Look at Greg. He looks like a regular white guy, but has an accent. You didn’t see that coming. You need to start picturing white people with your immigrants, because they look like regular white people. What’s your name? Hello. No, the white guy behind you, Asian guy. The Asian guy’s like, “Me? My name is, uh… not white guy.” -Dan. -Dan. Dan, you need to start picturing white immigrants, ’cause they look just like you. They look like regular white people, but then they open their mouth and no English. Nothing. You can always tell by looking at them, though. Regular white Canadian or white Americans, they always look bored. It’s in the body language. They always look like: Like nothing impresses them, you know? But white immigrants, you look at their body language. “Electricity. I can go bathroom indoors? Who’s going to clean the bucket?” The good thing about my job is I get to travel around the world and see all kinds of things. I’ve seen the whole world. Is that your mom with you, Dan? Hi, Mom. How are you? How old are you, Mom? Old enough to know better. Old enough to know better. And old enough to start to forget, but.. Um… Uh… Ahem. But.. Everyone’s like, “Russell!” Hey, man, she started it. Um… I’m really immature, Ma, I apologize. Have you..? You’re obviously retired, I would hope. Um, do you travel at all? Have you gone around the world at all? -No. -No, you gotta do it. You gotta go. Take Dan with you so he could fucking stare at things. I’m fucking with you, Dan. Sorry, buddy. Let me tell you something. I’ve been doing this 27 years. Born and raised in Canada. I’ve been in the U.S. for ten years. I’ve seen the entire world a few times now. It’s round. I don’t know.. I don’t know how old you are. I don’t know what you were taught, but it’s round now. It’s confirmed. Confirmed. And, um… It’s a wonderful world we live in. It’s a great place. And you gotta go and see it. You know? Like, white people need to travel more. I think that’s an issue, you know? By “travel more,” I don’t mean go to.. When I’m in the States and I ask: “You travel?” “Yeah. All over.” “Where do you go?” “Florida, New York, Seattle.” I’m like, “That’s not fucking traveling. That’s going in the country you live in.” Indian people try the same. “Do you travel?” “Oh, I travel all the time. I go to India and back and…” That’s not traveling. If you’re Indian and you go to India, that’s not traveling. That’s going back to where the fuck you came from. I remember when I was a kid. When my family was going to India, it was the most hush-hush operation. My dad would give me two days’ notice. “In two days, we’re going to India. Don’t tell anybody.” “Why not?” “They’ll want us to take a suitcase.” Having traveled the whole world, this whole beautiful world of ours, and seeing everything from his people to.. I haven’t gone to Egypt yet, I’m waiting for you guys to sort your shit out. Um… Been to China, been to Hong Kong, been to Macao, been to the Philippines. Been everywhere. Been to South Africa. Not been to Italy.. Once, you know. Had an itchy dick. The guy thought I was talking to him. “Hey, hey, hey.” Having traveled the whole world, let me tell you this. I realized something. I can only live in North America. And whether it’s Canada or the U.S., doesn’t bother me. As long as I’m in this continent, I’m good. But if they were like, “You can no longer live in North America. You must leave immediately,” the only other place I would consider living would be Bombay, India. And… I love Bombay. It’s one of my favorite places in the entire world. The reason I love Bombay is because I love New York, and Bombay reminds me of New York, but with less Indian people in Bombay. You gotta go to India, Mom. You’ve gotta go to India. Trust me. Before it’s all over, go to India. I’ll tell you why you gotta go. Because the five senses that you were born with have never been fully utilized… …until you go to India. And going to Brampton doesn’t count. I mean, India. You go to India, you’ll experience sight, sound and smell in less than one minute. You’ll just be standing here.. Did a sheep just fart and drive a train past me? What the hell was that? You gotta go. You gotta go to India. Let’s just say you go, right? So, you go to Bombay. I’ll warn you in advance. There’s a lot of people there. A shit ton of people. It’s not dangerous, so you don’t have to worry. Say you get there and get freaked out, you’re like, “I’m staying in my room.” It’s worth going there to just sit in your hotel room and watch the news. Watching the news in India is the best thing you’ve ever seen in your life. They have the craziest news you’ve ever seen in your life. Like, if any one of those things that happens in India on a daily basis happened in America just once, America would shut down. Let’s be honest. America loves to panic. That’s how they control the American people. They feed them with all these lies and propaganda. That’s how the media controls the American people. That’s how they think. “Well, you better not leave America ’cause look what they’re doing over there. Real crazy.” They do. That’s how they control the people, with the media. And you don’t believe me? Remember a couple years ago? Ebola. Remember that? “Ebola’s here! We’re all gonna die!” I’m like, “Oh, my God! How many people have it?” “One guy. But he’s black and he’s fast. We can’t catch him.” Whenever anything bad happens in America, they have these overly dramatic newscasts. “It’s a sad day for America. And an even worse day… for Americans. We’ll be right back after these messages.” Then they cut to my favorite commercial. “I’m Wilford Brimley. When I first found out about my diabetes… I knew it’d be a problem ’cause I can’t pronounce ‘diabetes.'” You watch the news in India. They deliver the worst news you’ve ever heard in your life so casually. Today, 743 people are dead… as a bicycle collided with a goat. Funeral services for the goat will be held this weekend… followed by a delicious goat curry.” Thank you very much, guys. You were awesome. Good night. What up, JusReign!\"]"
      ]
     },
     "execution_count": 8,
     "metadata": {},
     "output_type": "execute_result"
    }
   ],
   "source": [
    "next(iter(data.values()))"
   ]
  },
  {
   "cell_type": "code",
   "execution_count": 9,
   "metadata": {},
   "outputs": [],
   "source": [
    "# We are going to change this to key: comedian, value: string format\n",
    "def combine_text(list_of_text):\n",
    "    '''Takes a list of text and combines them into one large chunk of text.'''\n",
    "    combined_text = ' '.join(list_of_text)\n",
    "    return combined_text"
   ]
  },
  {
   "cell_type": "code",
   "execution_count": 10,
   "metadata": {},
   "outputs": [],
   "source": [
    "# Combine it!\n",
    "data_combined = {key: [combine_text(value)] for (key, value) in data.items()}"
   ]
  },
  {
   "cell_type": "code",
   "execution_count": 11,
   "metadata": {},
   "outputs": [
    {
     "data": {
      "text/html": [
       "<div>\n",
       "<style scoped>\n",
       "    .dataframe tbody tr th:only-of-type {\n",
       "        vertical-align: middle;\n",
       "    }\n",
       "\n",
       "    .dataframe tbody tr th {\n",
       "        vertical-align: top;\n",
       "    }\n",
       "\n",
       "    .dataframe thead th {\n",
       "        text-align: right;\n",
       "    }\n",
       "</style>\n",
       "<table border=\"1\" class=\"dataframe\">\n",
       "  <thead>\n",
       "    <tr style=\"text-align: right;\">\n",
       "      <th></th>\n",
       "      <th>transcript</th>\n",
       "    </tr>\n",
       "  </thead>\n",
       "  <tbody>\n",
       "    <tr>\n",
       "      <th>hasan</th>\n",
       "      <td>Hasan Minhaj’s full comedy routine at the 2017 White House Correspondents’ Dinner. The comedian told one blistering joke after another about the s...</td>\n",
       "    </tr>\n",
       "    <tr>\n",
       "      <th>russell</th>\n",
       "      <td>-Yeah, Russell! Oi, Russell! Your mother is so fat. What the hell did you say to me? Do I look like Ryan’s mom? Somebody gonna get a hurt real bad...</td>\n",
       "    </tr>\n",
       "    <tr>\n",
       "      <th>trevor</th>\n",
       "      <td>A NETFLIX ORIGINAL COMEDY SPECIAL [distant traffic] LIVE NATION PRESENTS TREVOR NOAH [presenter] Beautiful people, put your hands together for Tre...</td>\n",
       "    </tr>\n",
       "  </tbody>\n",
       "</table>\n",
       "</div>"
      ],
      "text/plain": [
       "                                                                                                                                                    transcript\n",
       "hasan    Hasan Minhaj’s full comedy routine at the 2017 White House Correspondents’ Dinner. The comedian told one blistering joke after another about the s...\n",
       "russell  -Yeah, Russell! Oi, Russell! Your mother is so fat. What the hell did you say to me? Do I look like Ryan’s mom? Somebody gonna get a hurt real bad...\n",
       "trevor   A NETFLIX ORIGINAL COMEDY SPECIAL [distant traffic] LIVE NATION PRESENTS TREVOR NOAH [presenter] Beautiful people, put your hands together for Tre..."
      ]
     },
     "execution_count": 11,
     "metadata": {},
     "output_type": "execute_result"
    }
   ],
   "source": [
    "pd.set_option('max_colwidth',150)\n",
    "\n",
    "df = pd.DataFrame.from_dict(data_combined).transpose()\n",
    "df.columns = ['transcript']\n",
    "df = df.sort_index()\n",
    "df"
   ]
  },
  {
   "cell_type": "code",
   "execution_count": 12,
   "metadata": {},
   "outputs": [
    {
     "data": {
      "text/plain": [
       "'Hasan Minhaj’s full comedy routine at the 2017 White House Correspondents’ Dinner. The comedian told one blistering joke after another about the sitting President of the United States, Donald Trump, and the media that covers him.\\xa0 Okay, listen, I get it. I get it. We gotta address the elephant that’s not in the room. \\nThe leader of our country is not here. And that’s because he lives in Moscow. \\nIt is a very long flight. It’d be hard for Vlad to make it. \\nVlad can’t just make it on a Saturday. It’s a Saturday. * * * Thank you, wow, oh my God. Ladies and gentlemen, welcome to the series finale of the White House correspondents’ dinner. Oh man. My name is Hasan Minhaj, or, as I will be known in a few weeks, Number 830287. Who would have thought, with everything going on in the country, that a Muslim would be standing on this stage — for the ninth year in a row, baby. We had eight years of Barack. What’s another year? I see you, fam. I see you, Barry. What you doing? You jet-skiing while the world burns. That’s cool. That’s cool. That’s cool. For those of you who do not know me, I’m a correspondent on the Daily Show on Comedy Central. Now, I see some of you whispering to each other. What is Comedy Central? It’s basically an internship for Netflix. I would like to thank Jeff Mason and the White House Correspondents’ Association for having me. I would say it is an honor to be here, but that would be alternative fact. It is not. Uh, no one wanted to do this. So, of course, it lands in the hands of an immigrant. That’s how it always goes down. No one wanted this gig. No one. Don Rickles died just so you wouldn’t ask him to do this gig, all right? RIP to Don Rickles, the only Donald with skin thick enough to take a joke like that. RIP to the legend. I’m sorry. I’m sorry. That’s my only — that’s my only Trump joke. I was explicitly told not to go after the administration, I promise you that’s my only Trump joke. Believe me. It is amazing to be surrounded by some of the greatest journalists in the world and, yet, when we all checked into the Hilton on Friday we all got a USA Today. Every time a USA Today slides underneath my door, it’s like they’re saying, “Hey, you’re not that smart, right?” USA Today is what happens when the coupon section takes over the newspaper. Is this an article about global warming or 50 cents off Tide? Either way, the pictures are so pretty. Tonight is about defending the First Amendment and the free press, and I am truly honored to be here, even though all of Hollywood pulled out. Now that King Joffrey is president, it feels like the Red Wedding in here. For the record, the WHCA is a group of journalists; they are not King Joffrey’s goons. I am so glad you are all here to honor a great American tradition because we all know this administration loves deleting history faster than Anthony Weiner when he hears footsteps. So thank you for being here. Okay, listen, I get it. I get it. We gotta address the elephant that’s not in the room. The leader of our country is not here. And that’s because he lives in Moscow. It is a very long flight. It’d be hard for Vlad to make it. Vlad can’t just make it on a Saturday. It’s a Saturday. As for the other guy, I think he’s in Pennsylvania because he can’t take a joke. Now, for the nine people watching on C-SPAN, there also was another elephant in the room, but Donald Trump Jr. shot it and cut off its tail. You know, a lot of people told me, “Hasan, if you go after the administration, it would be petty, unfair and childish.” In other words, presidential, so here we go. I get why Donald Trump didn’t want to be roasted tonight. By the looks of him, he has been roasting nonstop for the past 70 years. Historically the president usually performs at the correspondents’ dinner, but I think I speak for all of us when I say he’s done far too much bombing this month. Now, a lot of people in the media say that Donald Trump goes golfing too much. You guys are always like, “He goes golfing too much,” which raises a very important question: Why do you care? Do you want to know what he is doing when he’s golfing? Being president. Let the man putt-putt. Keep him distracted. Teach him how to play badminton. Tell him he has a great body for bobsledding. Play him tic-tac-toe. The longer you keep him distracted, the longer we are not at war with North Korea. Every time he goes golfing, the headline should read: Trump golfing Apocalypse delayed Take the W. This is great. I love this. Even if you guys groan, I’ve already hired Kellyanne Conway. She’s going to go on TV Monday and tell everybody that I killed, so it really doesn’t matter. But I love that everybody is drinking, having a good time. This is beautiful. You know that Donald Trump doesn’t drink, right? Does not touch alcohol, which is oddly respectable. But think about that. That means every statement, every interview, every tweet — completely sober. How is that possible? We’ve all had that excuse, haven’t we? Been like, “I said what? No, listen, babe, I swear to you I was hammered. That’s not who I really am.” What does Donald Trump tell Melania? “Listen, babe, last year on that bus with Billy Bush? That’s exactly who I am.” He tweets at 3 a.m. sober. Who is tweeting at 3 a.m. sober? Donald Trump. Because it’s 10 a.m. in Russia; those are business hours. You know, now that a professional wrestler is our president, anything is possible. You know that statement ‘anything is possible,’ used to have a positive connotation? Anything is possible! Now, we’re all like, “Anything is possible.” Anything. The news coming out of the White House is so stressful, I’ve been watching House of Cards just to relax. I’m just like, “Oh, man. A congressman pushed a journalist in front of a moving train? That’s quaint.” Now, it’s not just the president who decided not to show up. His entire administration is not here. Betsy DeVos couldn’t be here; she’s busy curating her collection of children’s tears. Now, a lot of people think Betsy DeVos is out of touch with working-class America, but you listen to me, and you listen to me right now: Every morning, Betsy DeVos is up at 5 a.m., putting her children on their flight to school. So don’t you tell me she’s out of touch, okay? Hey, has anyone seen Rick Perry since he became energy secretary? I have a feeling he’s sitting in a room full of plutonium, waiting to become Spider-Man. That’s just my hunch. Now a lot of people think Steve Bannon is the reason Donald Trump dog-whistles to racists. That is just not true. Ask Steve Bannon. Is Steve Bannon here? I do not see Steve Bannon. I do not see Steve Bannon. Not see Steve Bannon. Nazi Steve Bannon. Nazi Steve Bannon. Frederick Douglass isn’t here, and that’s because he’s dead. Someone please tell the president. Mike Pence wanted to be here tonight, but his wife wouldn’t let him because apparently one of you ladies is ovulating. Sooo … good job, ladies. Because of you, we couldn’t hang out with Mike Pence. Now, Ivanka Trump isn’t here, either, and I wish she was. Because if she was here, I would ask her the question we’re all thinking: Why? Why do you support this man? ’Cause I get it. We all love our parents. But we wouldn’t endorse them for president. If someone was like, “Hey, Hasan, should your dad be president of the United States?” I’d be like, “My dad, Najme Minhaj? The guy who tries to return used underwear to Costco? No.” Jeff Sessions couldn’t be here tonight. He was busy doing a pre-Civil War reenactment. On his RSVP, he just wrote no — just no, which happens to be his second-favorite N-word. You know, even Hillary Clinton couldn’t be here tonight. Hillary Clinton couldn’t — I mean she could have been here, but I think someone told her that the event was in Wisconsin and Michigan. What? What? You guys, Nate Silver told me that joke would kill. Nate Silver told me there was a 74.1 percent chance of that joke killing. I believed you, Nate. Did you hear that groan, Nate? I can’t believe I believed you, man. Okay, enough about House Slytherin, we are here to talk about the truth. It is 2017, and we are living in the golden age of lying. Now is the time to be a liar, and Donald Trump is liar in chief. And remember you guys are public enemy Number 1. You are his biggest enemy. Journalists, ISIS, normal-length ties. And somehow, you’re the bad guys. That’s why you have to keep your foot on the gas. Especially with Sean Spicer, who is not here tonight because I think he is at home googling how to fake his own death. But I love it when you give it to Sean Spicer. Sean Spicer gives press briefings like someone is going through his browser history while he watches.\\nJust panic. Like, “No, wait, stop it. Stop it. Stop it. Stop it. Stop shaking your head. Stop shaking your head. Stop shaking your head. We’ll talk about this tomorrow.” It is the best.\\nNow, you guys are laughing, but realize Sean Spicer has been doing PR since 1999. He has been doing this job for 18 years, and somehow after 18 years his go-to move when you ask him a tough question is denying the Holocaust. That is insane. How many people do you know that can turn a press briefing into a full-on Mel Gibson traffic stop? Only the Spice man. Only the Spice man. You know what’s crazy? Every day on the Daily Show, we do these jokes all of the time. We’re like: “The administration lies. Trump flip-flops.” It doesn’t matter. His supporters still trust him. It has not stopped his momentum at all. It’s almost as if the Daily Show should be on C-SPAN. It has left zero impact. It’s true. And I realized something: Maybe it is because we are living in this strange time where trust is more important than truth. Supporters of President Trump trust him, and I know journalists, you guys, are definitely trying to do good work. I just think a lot of people don’t trust you right now, and can you blame them? I mean unlike Anderson Cooper’s bone structure, you guys have been far from perfect. Remember election night? I mean, that was your Steve Harvey Miss Universe moment. The look on your faces at 11 p.m. on election night. It was like walking into a Panera Bread and finding out your sixth-grade teacher has a part-time job there. I was like what? Mr. Leddington? I guess you don’t have all the answers. It was all fun and games with Obama, right? You were covering an adult who could speak English. And now you’re covering President Trump, so you have to take your game to a whole new level. It’s like a bunch of stripper cops have to solve a real-life murder. Fox News is here. I’m amazed you guys even showed up. How are you here in public? It’s hard to trust you guys when you backed a man like Bill O’Reilly for years. But it finally happened. Bill O’Reilly has been fired. But then, you gave him a $25 million severance package, making it the only package he won’t force a woman to touch.\\nNow, in O’Reilly’s defense, he was told by a close friend: “When you’re a star, they let you do it. You can do anything.”\\nYou guys are having a hard time with Jesse Watters right now, too. He’s on a break right now. Right, he’s on a break. Just like my childhood dog is staying on a farm upstate. I get it. I know that move.\\nNow, I know some of you are wondering, “Hasan, how do you know so much about Fox News?” As a Muslim, I like to watch Fox News for the same reason I like to play “Call of Duty.” Sometimes, I like to turn my brain off and watch strangers insult my family and heritage. MSNBC is here tonight, and I’m glad you guys are here tonight. That way, if I’m bombing, Brian Williams will describe it as stunning. It’s hard to trust you guys when you sending us so many mixed messages. On the one hand, you tell us the prison-industrial complex is the problem, and then you air five straight hours of “Lockup.” You can’t be mad at corporations profiting off of minorities in prison when you’re a corporation profiting off of minorities in prison. It’s like … I have one quick request: MSNBC, please tell Rachel Maddow to chill about Trump’s tax returns. I don’t know what you think you’ll find in there, but there’s isn’t going to be a line item that just says “bribes from Russia.” That’s not how it works. You’re going to be like: “Oh, I found the 1040. USSR.” It doesn’t work like that. You’re the liberal news outlet. Look, we dress the same. I look like a melanin version of Chris Hayes. I want to root for you guys, but you’re turning into conspiracy theorists. Every night, you’re like: “The Russians hacked our elections. The Russians hacked our elections.” Meanwhile, everybody in Latin America and the Middle East is like: “Ah, a foreign government tampered with your elections? What is that like? Do tell, MSNBC.” Just pump the brakes. We’re only on Day 100. By the end of the year, you’re all going to have tinfoil hats and jars of urine all over your desks. Now, I had a lot more MSNBC jokes, but I don’t want to just ramble on; otherwise, I might get a show on MSNBC. Last but not least, my favorite entertainment channel is in the building tonight. CNN is here, baby. Now, you guys got some really weird trust issues going on with the public. I’m not going to call you fake news, but everything isn’t breaking news. You can’t go to Defcon 1 just because Sanjay Gupta found a new moisturizer. Every time a story breaks, you guys go to nine screens. Nine boxes on the screen. I’m trying to watch the news, not pick a player in “Street Fighter.” It’s giving me anxiety. If you have nine experts on a panel, what is your barrier of entry? Here to talk about transportation infrastructure is my Uber driver, Gary. Gary, what have you got? It just says, “Gary, 4.8 stars.” He’s like: “I don’t know. I got a mint.” “Thanks, Gary. Let’s go to the countdown clock to the next countdown clock. All you guys do is stoke up conflict. Don, every time I watch your show, it feels like I am watching a reality-TV show. “CNN Tonight” should just be called “Wait a Second. Now Hold On. Stop Yelling at Each Other,” with Don Lemon. You know you’re news right? Come on. But every time I watch CNN, it feels like you’re assigning me homework. “Is Trump a Russian spy? I don’t know. You tell me. Tweet us @AC360.” No, you tell me. I’m watching the news. But it feels like I’m watching CNN watch the news. Please just take an hour, figure out what you want to say. Then go on the air. But whenever I turn you guys on, it feels like a little kid just ran into the room and is trying to tell you a story. You’re just like: “There’s a wall. [Inaudible]Paul Ryan.” Breathe. Take a minute. Drink some milk. Then tell us the story, Wolf. I know I’m busting balls. I don’t have a solution on how to win back trust. I don’t. But in the age of Trump, I know that you guys have to be more perfect now more than ever. Because are you are how the president gets his news. Not from advisers, not from experts, not from intelligence agencies, you guys. So that’s why you gotta be on your A-game. You gotta be twice as good. You can’t make any mistakes. Because when one of you messes up, he blames your entire group. And now you know what it feels like to be a minority. And I see some of you guys complaining. Like, “What? I gotta work twice as hard for half the credit?” Remember, you’re a minority. You guys have a lot more experience than me, but I got three decades of being brown, so if you want to survive the age of Trump, you got to think like a minority. And now that you’re a minority, oh man, everyone is going to expect you to be a mouthpiece for the entire group. So, I hate to say it, but somewhere, right now, all of you are being represented by Geraldo Rivera. See now that you are truly a minority, there’s a distorted version of you out there. You know, Taco Bell for Mexican culture. Panda Express for Chinese culture. Huffington Post for journalism. And then, when you actually manage to do great work, you get hit with the most condescending line in the English language: “Hey, you’re actually one of the good ones.” Then you have to smile and say thank you. Kind of sucks, doesn’t it? By the way, you guys aren’t really minorities; you guys are super white. But, but — I could see MSNBC being like, “We got our minority card.” No. But your work is invaluable. I mean that as a fake journalist. I am rooting for you. We are 100 days in; 1,360 days to go. You guys are running the marathon, and I’m at the half-mile mark giving you tape for your nipples. So I’m wishing you nothing but the best. You chafed, Van? You a little chafed? It’s a long way to go. This has been one of the strangest events I have ever done in my life. I’m being honest with you. I feel like I am a tribute in the Hunger Games. Like, if this goes poorly, Steve Bannon gets to eat me. But I was asked to not roast the president and the administration, in absentia, and I completely understand that. We are in a very strange situation where there is a very combative relationship between the press and the president. But now that you guys are minorities — just for this moment — you might understand the position I was in. And it’s the same position a lot of minority kids feel in this country. And it’s, you know, do I come up here and just try to fit in and not ruffle any feathers? Or do I say how I really feel? Because this event is about celebrating the First Amendment and free speech. Free speech is the foundation of an open and liberal democracy, from college campuses to the White House. Only in America can a first-generation, Indian American Muslim kid get on the stage and make fun of the president. The orange man behind the Muslim ban. And it’s a sign to the rest of the world. It’s this amazing tradition that shows the entire world that even the president is not beyond the reach of the First Amendment. Keeping up with politics is easy now. But the president didn’t show up. Because Donald Trump doesn’t care about free speech. The man who tweets that everything that enters his head refuses to acknowledge the amendment that allows him to do it. Think about it. It’s almost — what is it? It’s 11? It’s 11 p.m. right now. In four hours, Donald Trump will be tweeting about how bad Nicki Minaj bombed at this dinner. And he’ll be doing that completely sober. And that’s his right. And I’m proud that all of us are here tonight to defend that right, even if the man in the White House never would. So, I would like to thank the White House Correspondents’ Association for having me here. I want to thank all of you. I want to thank Woodward and Bernstein for inspiring a generation of journalists. And I would like to thank Donald Trump for inspiring the next. Thank you so much. It’s been an honor. Good night. I love you. Thank you.'"
      ]
     },
     "execution_count": 12,
     "metadata": {},
     "output_type": "execute_result"
    }
   ],
   "source": [
    "df['transcript']['hasan']"
   ]
  },
  {
   "cell_type": "code",
   "execution_count": 13,
   "metadata": {},
   "outputs": [
    {
     "data": {
      "text/html": [
       "<div>\n",
       "<style scoped>\n",
       "    .dataframe tbody tr th:only-of-type {\n",
       "        vertical-align: middle;\n",
       "    }\n",
       "\n",
       "    .dataframe tbody tr th {\n",
       "        vertical-align: top;\n",
       "    }\n",
       "\n",
       "    .dataframe thead th {\n",
       "        text-align: right;\n",
       "    }\n",
       "</style>\n",
       "<table border=\"1\" class=\"dataframe\">\n",
       "  <thead>\n",
       "    <tr style=\"text-align: right;\">\n",
       "      <th></th>\n",
       "      <th>transcript</th>\n",
       "    </tr>\n",
       "  </thead>\n",
       "  <tbody>\n",
       "    <tr>\n",
       "      <th>hasan</th>\n",
       "      <td>hasan minhaj’s full comedy routine at the  white house correspondents’ dinner the comedian told one blistering joke after another about the sittin...</td>\n",
       "    </tr>\n",
       "    <tr>\n",
       "      <th>russell</th>\n",
       "      <td>yeah russell oi russell your mother is so fat what the hell did you say to me do i look like ryan’s mom somebody gonna get a hurt real bad oh ddr ...</td>\n",
       "    </tr>\n",
       "    <tr>\n",
       "      <th>trevor</th>\n",
       "      <td>a netflix original comedy special  live nation presents trevor noah  beautiful people put your hands together for trevor noah    what’s going on l...</td>\n",
       "    </tr>\n",
       "  </tbody>\n",
       "</table>\n",
       "</div>"
      ],
      "text/plain": [
       "                                                                                                                                                    transcript\n",
       "hasan    hasan minhaj’s full comedy routine at the  white house correspondents’ dinner the comedian told one blistering joke after another about the sittin...\n",
       "russell  yeah russell oi russell your mother is so fat what the hell did you say to me do i look like ryan’s mom somebody gonna get a hurt real bad oh ddr ...\n",
       "trevor   a netflix original comedy special  live nation presents trevor noah  beautiful people put your hands together for trevor noah    what’s going on l..."
      ]
     },
     "execution_count": 13,
     "metadata": {},
     "output_type": "execute_result"
    }
   ],
   "source": [
    "def clean_text_round1(text):\n",
    "    '''Make text lowercase, remove text in square brackets, remove punctuation and remove words containing numbers.'''\n",
    "    text = text.lower()\n",
    "    text = re.sub('\\[.*?\\]', '', text)\n",
    "    text = re.sub('[%s]' % re.escape(string.punctuation), '', text)\n",
    "    text = re.sub('\\w*\\d\\w*', '', text)\n",
    "    return text\n",
    "\n",
    "round1 = lambda x: clean_text_round1(x)\n",
    "\n",
    "\n",
    "# Let's take a look at the updated text\n",
    "data_clean = pd.DataFrame(df.transcript.apply(round1))\n",
    "data_clean\n",
    "\n"
   ]
  },
  {
   "cell_type": "code",
   "execution_count": 14,
   "metadata": {},
   "outputs": [
    {
     "data": {
      "text/html": [
       "<div>\n",
       "<style scoped>\n",
       "    .dataframe tbody tr th:only-of-type {\n",
       "        vertical-align: middle;\n",
       "    }\n",
       "\n",
       "    .dataframe tbody tr th {\n",
       "        vertical-align: top;\n",
       "    }\n",
       "\n",
       "    .dataframe thead th {\n",
       "        text-align: right;\n",
       "    }\n",
       "</style>\n",
       "<table border=\"1\" class=\"dataframe\">\n",
       "  <thead>\n",
       "    <tr style=\"text-align: right;\">\n",
       "      <th></th>\n",
       "      <th>transcript</th>\n",
       "    </tr>\n",
       "  </thead>\n",
       "  <tbody>\n",
       "    <tr>\n",
       "      <th>hasan</th>\n",
       "      <td>hasan minhajs full comedy routine at the  white house correspondents dinner the comedian told one blistering joke after another about the sitting ...</td>\n",
       "    </tr>\n",
       "    <tr>\n",
       "      <th>russell</th>\n",
       "      <td>yeah russell oi russell your mother is so fat what the hell did you say to me do i look like ryans mom somebody gonna get a hurt real bad oh ddr s...</td>\n",
       "    </tr>\n",
       "    <tr>\n",
       "      <th>trevor</th>\n",
       "      <td>a netflix original comedy special  live nation presents trevor noah  beautiful people put your hands together for trevor noah    whats going on lo...</td>\n",
       "    </tr>\n",
       "  </tbody>\n",
       "</table>\n",
       "</div>"
      ],
      "text/plain": [
       "                                                                                                                                                    transcript\n",
       "hasan    hasan minhajs full comedy routine at the  white house correspondents dinner the comedian told one blistering joke after another about the sitting ...\n",
       "russell  yeah russell oi russell your mother is so fat what the hell did you say to me do i look like ryans mom somebody gonna get a hurt real bad oh ddr s...\n",
       "trevor   a netflix original comedy special  live nation presents trevor noah  beautiful people put your hands together for trevor noah    whats going on lo..."
      ]
     },
     "execution_count": 14,
     "metadata": {},
     "output_type": "execute_result"
    }
   ],
   "source": [
    "# Apply a second round of cleaning\n",
    "def clean_text_round2(text):\n",
    "    '''Get rid of some additional punctuation and non-sensical text that was missed the first time around.'''\n",
    "    text = re.sub('[‘’“”…]', '', text)\n",
    "    text = re.sub('\\n', '', text)\n",
    "    return text\n",
    "\n",
    "round2 = lambda x: clean_text_round2(x)\n",
    "\n",
    "# Let's take a look at the updated text\n",
    "data_clean = pd.DataFrame(data_clean.transcript.apply(round2))\n",
    "data_clean"
   ]
  },
  {
   "cell_type": "code",
   "execution_count": 15,
   "metadata": {},
   "outputs": [
    {
     "data": {
      "text/plain": [
       "'\\nfrom nltk.stem import WordNetLemmatizer\\n\\ndef lemmatization_round4(text):\\n    tokens=word_tokenize(text)\\n    wordnet_lemmatizer = WordNetLemmatizer()\\n    lemmatized = [wordnet_lemmatizer.lemmatize(token) for token in tokens]\\n    return lemmatized\\n\\nround3 = lambda x: stemming_round3(x)\\n\\ndata_clean = pd.DataFrame(data_clean.transcript.apply(round3))\\ndata_clean\\n'"
      ]
     },
     "execution_count": 15,
     "metadata": {},
     "output_type": "execute_result"
    }
   ],
   "source": [
    "\"\"\"\n",
    "from nltk.stem import WordNetLemmatizer\n",
    "\n",
    "def lemmatization_round4(text):\n",
    "    tokens=word_tokenize(text)\n",
    "    wordnet_lemmatizer = WordNetLemmatizer()\n",
    "    lemmatized = [wordnet_lemmatizer.lemmatize(token) for token in tokens]\n",
    "    return lemmatized\n",
    "\n",
    "round3 = lambda x: stemming_round3(x)\n",
    "\n",
    "data_clean = pd.DataFrame(data_clean.transcript.apply(round3))\n",
    "data_clean\n",
    "\"\"\""
   ]
  },
  {
   "cell_type": "code",
   "execution_count": 16,
   "metadata": {},
   "outputs": [
    {
     "data": {
      "text/html": [
       "<div>\n",
       "<style scoped>\n",
       "    .dataframe tbody tr th:only-of-type {\n",
       "        vertical-align: middle;\n",
       "    }\n",
       "\n",
       "    .dataframe tbody tr th {\n",
       "        vertical-align: top;\n",
       "    }\n",
       "\n",
       "    .dataframe thead th {\n",
       "        text-align: right;\n",
       "    }\n",
       "</style>\n",
       "<table border=\"1\" class=\"dataframe\">\n",
       "  <thead>\n",
       "    <tr style=\"text-align: right;\">\n",
       "      <th></th>\n",
       "      <th>transcript</th>\n",
       "    </tr>\n",
       "  </thead>\n",
       "  <tbody>\n",
       "    <tr>\n",
       "      <th>hasan</th>\n",
       "      <td>Hasan Minhaj’s full comedy routine at the 2017 White House Correspondents’ Dinner. The comedian told one blistering joke after another about the s...</td>\n",
       "    </tr>\n",
       "    <tr>\n",
       "      <th>russell</th>\n",
       "      <td>-Yeah, Russell! Oi, Russell! Your mother is so fat. What the hell did you say to me? Do I look like Ryan’s mom? Somebody gonna get a hurt real bad...</td>\n",
       "    </tr>\n",
       "    <tr>\n",
       "      <th>trevor</th>\n",
       "      <td>A NETFLIX ORIGINAL COMEDY SPECIAL [distant traffic] LIVE NATION PRESENTS TREVOR NOAH [presenter] Beautiful people, put your hands together for Tre...</td>\n",
       "    </tr>\n",
       "  </tbody>\n",
       "</table>\n",
       "</div>"
      ],
      "text/plain": [
       "                                                                                                                                                    transcript\n",
       "hasan    Hasan Minhaj’s full comedy routine at the 2017 White House Correspondents’ Dinner. The comedian told one blistering joke after another about the s...\n",
       "russell  -Yeah, Russell! Oi, Russell! Your mother is so fat. What the hell did you say to me? Do I look like Ryan’s mom? Somebody gonna get a hurt real bad...\n",
       "trevor   A NETFLIX ORIGINAL COMEDY SPECIAL [distant traffic] LIVE NATION PRESENTS TREVOR NOAH [presenter] Beautiful people, put your hands together for Tre..."
      ]
     },
     "execution_count": 16,
     "metadata": {},
     "output_type": "execute_result"
    }
   ],
   "source": [
    "df"
   ]
  },
  {
   "cell_type": "code",
   "execution_count": 17,
   "metadata": {},
   "outputs": [
    {
     "data": {
      "text/html": [
       "<div>\n",
       "<style scoped>\n",
       "    .dataframe tbody tr th:only-of-type {\n",
       "        vertical-align: middle;\n",
       "    }\n",
       "\n",
       "    .dataframe tbody tr th {\n",
       "        vertical-align: top;\n",
       "    }\n",
       "\n",
       "    .dataframe thead th {\n",
       "        text-align: right;\n",
       "    }\n",
       "</style>\n",
       "<table border=\"1\" class=\"dataframe\">\n",
       "  <thead>\n",
       "    <tr style=\"text-align: right;\">\n",
       "      <th></th>\n",
       "      <th>transcript</th>\n",
       "      <th>full_name</th>\n",
       "    </tr>\n",
       "  </thead>\n",
       "  <tbody>\n",
       "    <tr>\n",
       "      <th>hasan</th>\n",
       "      <td>Hasan Minhaj’s full comedy routine at the 2017 White House Correspondents’ Dinner. The comedian told one blistering joke after another about the s...</td>\n",
       "      <td>Hasan Minhaj</td>\n",
       "    </tr>\n",
       "    <tr>\n",
       "      <th>russell</th>\n",
       "      <td>-Yeah, Russell! Oi, Russell! Your mother is so fat. What the hell did you say to me? Do I look like Ryan’s mom? Somebody gonna get a hurt real bad...</td>\n",
       "      <td>Russell Peters</td>\n",
       "    </tr>\n",
       "    <tr>\n",
       "      <th>trevor</th>\n",
       "      <td>A NETFLIX ORIGINAL COMEDY SPECIAL [distant traffic] LIVE NATION PRESENTS TREVOR NOAH [presenter] Beautiful people, put your hands together for Tre...</td>\n",
       "      <td>Trevor Noah</td>\n",
       "    </tr>\n",
       "  </tbody>\n",
       "</table>\n",
       "</div>"
      ],
      "text/plain": [
       "                                                                                                                                                    transcript  \\\n",
       "hasan    Hasan Minhaj’s full comedy routine at the 2017 White House Correspondents’ Dinner. The comedian told one blistering joke after another about the s...   \n",
       "russell  -Yeah, Russell! Oi, Russell! Your mother is so fat. What the hell did you say to me? Do I look like Ryan’s mom? Somebody gonna get a hurt real bad...   \n",
       "trevor   A NETFLIX ORIGINAL COMEDY SPECIAL [distant traffic] LIVE NATION PRESENTS TREVOR NOAH [presenter] Beautiful people, put your hands together for Tre...   \n",
       "\n",
       "              full_name  \n",
       "hasan      Hasan Minhaj  \n",
       "russell  Russell Peters  \n",
       "trevor      Trevor Noah  "
      ]
     },
     "execution_count": 17,
     "metadata": {},
     "output_type": "execute_result"
    }
   ],
   "source": [
    "# Let's add the comedians' full names as well\n",
    "full_names = ['Hasan Minhaj', 'Russell Peters', 'Trevor Noah']\n",
    "\n",
    "df['full_name'] = full_names\n",
    "df"
   ]
  },
  {
   "cell_type": "code",
   "execution_count": 18,
   "metadata": {},
   "outputs": [],
   "source": [
    "# Let's pickle it for later use\n",
    "df.to_pickle(\"corpus.pkl\")\n"
   ]
  },
  {
   "cell_type": "code",
   "execution_count": 19,
   "metadata": {},
   "outputs": [
    {
     "data": {
      "text/html": [
       "<div>\n",
       "<style scoped>\n",
       "    .dataframe tbody tr th:only-of-type {\n",
       "        vertical-align: middle;\n",
       "    }\n",
       "\n",
       "    .dataframe tbody tr th {\n",
       "        vertical-align: top;\n",
       "    }\n",
       "\n",
       "    .dataframe thead th {\n",
       "        text-align: right;\n",
       "    }\n",
       "</style>\n",
       "<table border=\"1\" class=\"dataframe\">\n",
       "  <thead>\n",
       "    <tr style=\"text-align: right;\">\n",
       "      <th></th>\n",
       "      <th>aah</th>\n",
       "      <th>abandoned</th>\n",
       "      <th>able</th>\n",
       "      <th>absentia</th>\n",
       "      <th>absolute</th>\n",
       "      <th>absolutely</th>\n",
       "      <th>accent</th>\n",
       "      <th>accept</th>\n",
       "      <th>access</th>\n",
       "      <th>accommodating</th>\n",
       "      <th>...</th>\n",
       "      <th>yo</th>\n",
       "      <th>yogurt</th>\n",
       "      <th>york</th>\n",
       "      <th>youd</th>\n",
       "      <th>youll</th>\n",
       "      <th>young</th>\n",
       "      <th>younger</th>\n",
       "      <th>youre</th>\n",
       "      <th>youve</th>\n",
       "      <th>zero</th>\n",
       "    </tr>\n",
       "  </thead>\n",
       "  <tbody>\n",
       "    <tr>\n",
       "      <th>hasan</th>\n",
       "      <td>0</td>\n",
       "      <td>0</td>\n",
       "      <td>0</td>\n",
       "      <td>1</td>\n",
       "      <td>0</td>\n",
       "      <td>0</td>\n",
       "      <td>0</td>\n",
       "      <td>0</td>\n",
       "      <td>0</td>\n",
       "      <td>0</td>\n",
       "      <td>...</td>\n",
       "      <td>0</td>\n",
       "      <td>0</td>\n",
       "      <td>0</td>\n",
       "      <td>0</td>\n",
       "      <td>1</td>\n",
       "      <td>0</td>\n",
       "      <td>0</td>\n",
       "      <td>16</td>\n",
       "      <td>0</td>\n",
       "      <td>1</td>\n",
       "    </tr>\n",
       "    <tr>\n",
       "      <th>russell</th>\n",
       "      <td>1</td>\n",
       "      <td>0</td>\n",
       "      <td>1</td>\n",
       "      <td>0</td>\n",
       "      <td>1</td>\n",
       "      <td>1</td>\n",
       "      <td>3</td>\n",
       "      <td>0</td>\n",
       "      <td>2</td>\n",
       "      <td>0</td>\n",
       "      <td>...</td>\n",
       "      <td>4</td>\n",
       "      <td>0</td>\n",
       "      <td>3</td>\n",
       "      <td>3</td>\n",
       "      <td>3</td>\n",
       "      <td>3</td>\n",
       "      <td>1</td>\n",
       "      <td>48</td>\n",
       "      <td>7</td>\n",
       "      <td>0</td>\n",
       "    </tr>\n",
       "    <tr>\n",
       "      <th>trevor</th>\n",
       "      <td>0</td>\n",
       "      <td>1</td>\n",
       "      <td>0</td>\n",
       "      <td>0</td>\n",
       "      <td>0</td>\n",
       "      <td>0</td>\n",
       "      <td>0</td>\n",
       "      <td>1</td>\n",
       "      <td>0</td>\n",
       "      <td>1</td>\n",
       "      <td>...</td>\n",
       "      <td>8</td>\n",
       "      <td>1</td>\n",
       "      <td>3</td>\n",
       "      <td>3</td>\n",
       "      <td>9</td>\n",
       "      <td>0</td>\n",
       "      <td>0</td>\n",
       "      <td>20</td>\n",
       "      <td>18</td>\n",
       "      <td>0</td>\n",
       "    </tr>\n",
       "  </tbody>\n",
       "</table>\n",
       "<p>3 rows × 2376 columns</p>\n",
       "</div>"
      ],
      "text/plain": [
       "         aah  abandoned  able  absentia  absolute  absolutely  accent  accept  \\\n",
       "hasan      0          0     0         1         0           0       0       0   \n",
       "russell    1          0     1         0         1           1       3       0   \n",
       "trevor     0          1     0         0         0           0       0       1   \n",
       "\n",
       "         access  accommodating  ...  yo  yogurt  york  youd  youll  young  \\\n",
       "hasan         0              0  ...   0       0     0     0      1      0   \n",
       "russell       2              0  ...   4       0     3     3      3      3   \n",
       "trevor        0              1  ...   8       1     3     3      9      0   \n",
       "\n",
       "         younger  youre  youve  zero  \n",
       "hasan          0     16      0     1  \n",
       "russell        1     48      7     0  \n",
       "trevor         0     20     18     0  \n",
       "\n",
       "[3 rows x 2376 columns]"
      ]
     },
     "execution_count": 19,
     "metadata": {},
     "output_type": "execute_result"
    }
   ],
   "source": [
    "# We are going to create a document-term matrix using CountVectorizer, and exclude common English stop words\n",
    "from sklearn.feature_extraction.text import CountVectorizer\n",
    "\n",
    "cv = CountVectorizer(stop_words='english')\n",
    "data_cv = cv.fit_transform(data_clean.transcript)\n",
    "data_dtm = pd.DataFrame(data_cv.toarray(), columns=cv.get_feature_names())\n",
    "data_dtm.index = data_clean.index\n",
    "\n",
    "data_dtm"
   ]
  },
  {
   "cell_type": "code",
   "execution_count": 20,
   "metadata": {},
   "outputs": [],
   "source": [
    "# Let's pickle it for later use\n",
    "data_dtm.to_pickle(\"dtm.pkl\")\n",
    "\n",
    "# Let's also pickle the cleaned data (before we put it in document-term matrix format) \n",
    "# and the CountVectorizer object\n",
    "data_clean.to_pickle('data_clean.pkl')\n",
    "pickle.dump(cv, open(\"cv.pkl\", \"wb\"))"
   ]
  },
  {
   "cell_type": "code",
   "execution_count": null,
   "metadata": {},
   "outputs": [],
   "source": []
  }
 ],
 "metadata": {
  "kernelspec": {
   "display_name": "Python 3",
   "language": "python",
   "name": "python3"
  },
  "language_info": {
   "codemirror_mode": {
    "name": "ipython",
    "version": 3
   },
   "file_extension": ".py",
   "mimetype": "text/x-python",
   "name": "python",
   "nbconvert_exporter": "python",
   "pygments_lexer": "ipython3",
   "version": "3.5.2"
  }
 },
 "nbformat": 4,
 "nbformat_minor": 2
}
